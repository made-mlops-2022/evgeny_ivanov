version https://git-lfs.github.com/spec/v1
oid sha256:68865ae6d28a7a135ee23269ff1f70aceb4f228c7782aeea24c652c44fd8c2ff
size 12956960
