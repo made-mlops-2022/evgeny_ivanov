version https://git-lfs.github.com/spec/v1
oid sha256:e7aa8f5fe03f507ed485a9f07c211a8a77e72e0d8efe922c17b402724e8eecd5
size 309247
