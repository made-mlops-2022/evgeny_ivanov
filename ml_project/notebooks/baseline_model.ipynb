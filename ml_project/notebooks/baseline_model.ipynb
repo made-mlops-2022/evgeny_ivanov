version https://git-lfs.github.com/spec/v1
oid sha256:3a215add51c4abc352c895f39eb47e1fabd4e2504e892f557199bd98d3905b1a
size 309247
