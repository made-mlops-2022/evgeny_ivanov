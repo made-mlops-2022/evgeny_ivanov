version https://git-lfs.github.com/spec/v1
oid sha256:87378192d17832bea360db01ae393fe5cebbabe09e4efa237a8e82055db415c8
size 30684
